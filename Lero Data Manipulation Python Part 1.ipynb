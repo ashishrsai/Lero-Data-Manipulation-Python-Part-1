{
  "cells": [
    {
      "metadata": {
        "slideshow": {
          "slide_type": "slide"
        }
      },
      "cell_type": "markdown",
      "source": "\n\n# Data Manipulation in Python Part 1\n\n#### Ashish Rajendra Sai\n\n###### Ph.D. Candidate - University of Limerick \n\nAugust $11$, 2020\n\n <img src=\"Lero.png\" style=\"width: 400px;\" align=\"left\"/>    <img src=\"sfi.png\" style=\"width: 400px;float: right;\"/>\n\n\n"
    },
    {
      "metadata": {
        "slideshow": {
          "slide_type": "subslide"
        }
      },
      "cell_type": "markdown",
      "source": "#### Who am I?\n\n###### Ashish Rajendra Sai\n\n- Final year Ph.D. student at the University of Limerick under the supervision of Dr. Jim Buckley\n- Doctoral Researcher in Lero: The Irish Software Research Centre \n- Currently a Visiting Researcher at the University of California, Berkeley\n- Long time interest in teaching programming to non-cs professionals and students:\n    - Programming can be super fun and useful once we jump past some hoops\n    \n\n------\n\n<img src=\"Lero.png\" alt=\"Drawing\" style=\"width: 200px;\" align=\"left\"/> "
    },
    {
      "metadata": {
        "slideshow": {
          "slide_type": "subslide"
        }
      },
      "cell_type": "markdown",
      "source": "#### How today might work\n\n###### Zoom Meeting:\n\n- I will present in approximately 15 - minute slots, over an hour.\n- I would like to take all questions via the zoom 'chat' \n  - What is a function? Why does it matter? ....\n  - The importance of questions in this session.\n- I will answer them in real-time, at the end of the 15 minutes or at the end of the session entirely (if I think they will be covered by something later)\n\n------\n\n<img src=\"Lero.png\" alt=\"Drawing\" style=\"width: 200px;\" align=\"left\"/>"
    },
    {
      "metadata": {
        "slideshow": {
          "slide_type": "subslide"
        }
      },
      "cell_type": "markdown",
      "source": "#### Welcome to today's class!\n\n###### Today's Agenda\n\n1. Learn the basics of computer programming\n2. What is Python and why should we care?\n3. What do you need to write Python?\n4. Basic building blocks of programming languages\n5. Basics of reading CSV files in Python\n6. Some best-practice for your code in Python \n\n------\n\n<img src=\"Lero.png\" alt=\"Drawing\" style=\"width: 200px;\" align=\"left\"/> "
    },
    {
      "metadata": {
        "slideshow": {
          "slide_type": "slide"
        }
      },
      "cell_type": "markdown",
      "source": "#### Why learn to program?\n\n------\n\n- Traditional programs such as Excel are designed to perform some specific task (though they are very powerful tools at this).\n\n    - Example: find people who have bought 10 masks in the last 6 days that live within 10 km of each other.\n\n-  Automation: If you have ever spent hours renaming files, Python can help you automate tedious tasks.\n\n- Handling large data: no need to worry about Excel hanging/lagging.\n\n- Predictive analysis: If you get comfortable with Python you can tab into the world of Machine Learning (We will touch the surface of ML in Python in the next lecture)\n\n------\n\n<img src=\"Lero.png\" alt=\"Drawing\" style=\"width: 200px;\" align=\"left\"/> \n"
    },
    {
      "metadata": {
        "slideshow": {
          "slide_type": "slide"
        }
      },
      "cell_type": "markdown",
      "source": "#### Basics of Computer Programming\n\n------\n\n- Your computer only understands electronic pulses (On or Off) dictated by physical circuits in your machine\n\n    -  Boolean algebra plays a significant role in logical operations of computers (UCC was the academic home of George Boole)\n\n- We moved from creating circuits to solve a problem (sum 8+9) to more general-purpose programable circuits (add a and b)\n\n- These circuits use something called Machine Code that is specific to the hardware (not very intuitive)\n\n- Nowadays we write programs in languages close to English, in CS lingo we call these High-Level Programming Languages. \n\n------\n\n<img src=\"Lero.png\" alt=\"Drawing\" style=\"width: 200px;\" align=\"left\"/> "
    },
    {
      "metadata": {
        "slideshow": {
          "slide_type": "subslide"
        }
      },
      "cell_type": "markdown",
      "source": "#### High-Level Programming Language to Machine Code\n\n------\n\n<img src=\"Pytomachine.png\" alt=\"Drawing\" style=\"width: 1500px;\" align=\"center\"/>  \n\n------\n\n<img src=\"Lero.png\" alt=\"Drawing\" style=\"width: 200px;\" align=\"left\"/> "
    },
    {
      "metadata": {
        "slideshow": {
          "slide_type": "subslide"
        }
      },
      "cell_type": "markdown",
      "source": "#### What is Python and why should you care?\n\n------\n\n- Python is a High-Level programming language: Easy to read and write\n\n- Widely used in both academia and industry\n\n- General-purpose so you can use it to manipulate your data or create websites\n\n- Good for machine learning or data analytics application due to the community\n\n- Easy to set up and get started with \n\n------\n\n<img src=\"Lero.png\" alt=\"Drawing\" style=\"width: 200px;\" align=\"left\"/> "
    },
    {
      "metadata": {
        "trusted": true,
        "slideshow": {
          "slide_type": "subslide"
        }
      },
      "cell_type": "markdown",
      "source": "#### What do you need to be able to code in Python?\n\n------\n\n<img src=\"textEditor.png\" alt=\"Drawing\" style=\"width: 800px;\" align=\"center\"/> \n\n- Compiler: https://www.python.org/downloads/\n\n- You can often run the Python machine binary using the text-editor (IDE) or use commands.\n\n------\n\n<img src=\"Lero.png\" alt=\"Drawing\" style=\"width: 200px;\" align=\"left\"/> "
    },
    {
      "metadata": {
        "slideshow": {
          "slide_type": "subslide"
        }
      },
      "cell_type": "markdown",
      "source": "#### What do you need to be able to code in Python?\n\n------\n\n- To make our life easy we are going to use free online hosted integrated development environments for Python.\n\n- No need to download or set up anything: Be careful with your company policies, you do not want sensitive data on these third party computers. \n\n- List of free online IDEs to get you started;\n    - Google Colaboratory (Colab) Link: https://colab.research.google.com/\n    - Microsoft Azure Notebooks Link: https://notebooks.azure.com/ (This is what we will use today)\n    - CoCalc Link: https://cocalc.com/ (Good but slow :( )\n    - Kaggle Kernels Link: https://www.kaggle.com/ (Mostly for data science nerds)\n    - You can always use vanilla Jupyter Notebook on your own PC Link: https://jupyter.org/\n------\n\n<img src=\"Lero.png\" alt=\"Drawing\" style=\"width: 200px;\" align=\"left\"/> "
    },
    {
      "metadata": {
        "slideshow": {
          "slide_type": "slide"
        }
      },
      "cell_type": "markdown",
      "source": "#### Basic Building Blocks of Programming Languages\n\n------\n\n- Let's start with the basics: Programming languages can often be used to perform basic mathematical operations"
    },
    {
      "metadata": {
        "trusted": true
      },
      "cell_type": "code",
      "source": "8+9",
      "execution_count": 2,
      "outputs": [
        {
          "output_type": "execute_result",
          "execution_count": 2,
          "data": {
            "text/plain": "17"
          },
          "metadata": {}
        }
      ]
    },
    {
      "metadata": {
        "slideshow": {
          "slide_type": "subslide"
        }
      },
      "cell_type": "markdown",
      "source": "- We can also make it more general-purpose: let's calculate the total marks of a student and the final percentage"
    },
    {
      "metadata": {
        "trusted": true
      },
      "cell_type": "code",
      "source": "# Student got 45/100 in Science, 50/100 in Maths, 52/100 in Biology and 80/100 in CS\n45+50+52+80",
      "execution_count": 4,
      "outputs": [
        {
          "output_type": "execute_result",
          "execution_count": 4,
          "data": {
            "text/plain": "227"
          },
          "metadata": {}
        }
      ]
    },
    {
      "metadata": {
        "trusted": true
      },
      "cell_type": "code",
      "source": "#  Here we calculate the percentage \n(227/400)*100",
      "execution_count": 6,
      "outputs": [
        {
          "output_type": "execute_result",
          "execution_count": 6,
          "data": {
            "text/plain": "56.75"
          },
          "metadata": {}
        }
      ]
    },
    {
      "metadata": {
        "slideshow": {
          "slide_type": "subslide"
        }
      },
      "cell_type": "markdown",
      "source": "- We can solve this issue and make our calculation smarter "
    },
    {
      "metadata": {
        "trusted": true
      },
      "cell_type": "code",
      "source": "# Student got 45/100 in Science, 50/100 in Maths, 52/100 in Biology and 80/100 in CS\nScience = 45\nMaths = 50\nBiology = 52\nCS = 80\nTotal = Science + Maths + Biology + CS\n\nprint(Total)",
      "execution_count": 97,
      "outputs": [
        {
          "output_type": "stream",
          "text": "227\n",
          "name": "stdout"
        }
      ]
    },
    {
      "metadata": {
        "trusted": true
      },
      "cell_type": "code",
      "source": "Percentage = (Total/400)*100\n\nprint(Percentage)",
      "execution_count": 18,
      "outputs": [
        {
          "output_type": "stream",
          "text": "56.75\n",
          "name": "stdout"
        }
      ]
    },
    {
      "metadata": {},
      "cell_type": "markdown",
      "source": "- This is an important aspect of programming languages that make them powerful tools. \n- We just created Variables and used them to make our calculation a bit versatile."
    },
    {
      "metadata": {
        "slideshow": {
          "slide_type": "subslide"
        }
      },
      "cell_type": "markdown",
      "source": "- There are different types of variables in programming languages \n- So far we only created Integers and Floats (Decimal Point Values)\n- The type of value that a program can understand is called a **Data Type**\n    - Fun fact: What operations you perform on your data (variable) depends on your data type\n- Some basic data types used in  many programming languages:\n    - Integers: 1,2,3,4 .... \n    - Floating Point Numbers (Float): Decimal Point Number such as 1.2, 48.9999912, etc\n    - Characters (Char): Alphabetic/Numeric characters such as A,a,B,b etc\n    - String: Sequence of alphanumeric chars combined such as \"Ashish\"\n    - Complex Number etc (Beyond the scope of this workshop but may be useful if you have a special type of data to deal with)"
    },
    {
      "metadata": {
        "trusted": true
      },
      "cell_type": "code",
      "source": "# Now we will see an example of these different data types \n\nName = \"Luke\"\nAge = 24\nPercentage = 84\nResult = 'P'\n\n# print(type(Name))",
      "execution_count": 25,
      "outputs": []
    },
    {
      "metadata": {
        "slideshow": {
          "slide_type": "subslide"
        }
      },
      "cell_type": "markdown",
      "source": "- That was all fun but what about calculating the percentage of Luke based on his subject results\n    - Do we have to create one variable for each subject? \n    - Certainly, this isn't simplifying our workflow \n- This is where we can use a more complex data type called **List**:\n    -  Collection object types (a single variable that can store multiple data points)"
    },
    {
      "metadata": {
        "trusted": true
      },
      "cell_type": "code",
      "source": "ResultsBySubjects = [45,50,52,80]\n\n# print(type(ResultsBySubjects))\n\n\n# print(ResultsBySubjects[0])\n# print(ResultsBySubjects[1])\n# print(ResultsBySubjects[2])\n# print(ResultsBySubjects[3])\n",
      "execution_count": 30,
      "outputs": []
    },
    {
      "metadata": {
        "slideshow": {
          "slide_type": "subslide"
        }
      },
      "cell_type": "markdown",
      "source": "- Only one issue with List we do not know which result refers to which subject (Not very intuitive for our use case)\n- Worry not Python has us covered with another data type called **Dict**:\n    -  You can use a key-value to give some meaning to the data you are trying to store/manipulate"
    },
    {
      "metadata": {
        "trusted": true
      },
      "cell_type": "code",
      "source": "# 45/100 in Sciance, 50/100 in Maths, 52/100 in Biology and 80/100 in CS\nResultsBySubjects = {'Sciance': 45, 'Maths': 50, 'Biology': 52, 'CS': 80 }\n\n# print(type(ResultsBySubjects))\n\n# print(ResultsBySubjects['CS'])",
      "execution_count": 45,
      "outputs": []
    },
    {
      "metadata": {
        "trusted": true
      },
      "cell_type": "code",
      "source": "# This is what we end up with when using Dict with our student example:\n\nName = \"Luke\"\nAge = 24\nResultsBySubjects = {'Science': 45, 'Maths': 50, 'Biology': 52, 'CS': 80 }\nResult = 'P'",
      "execution_count": 38,
      "outputs": []
    },
    {
      "metadata": {
        "slideshow": {
          "slide_type": "subslide"
        }
      },
      "cell_type": "markdown",
      "source": "- Now that we have results by subjects, we can calculate the percentage.\n- Since ResultsBySubjects is not a single value we cannot perform addition (if you remember, we talked about how the types of operation that you can perform depend on the data type)\n- How can we use the **Dict** type ResulsBySubjects to find the sum and ultimately the percentage\n- Logically, we read each of the entries and sum them up. \n - In programming, we use a **loop** to perform this type of operations"
    },
    {
      "metadata": {
        "trusted": true
      },
      "cell_type": "code",
      "source": "ResultsBySubjects = {'Sciance': 45, 'Maths': 50, 'Biology': 52, 'CS': 80 }\n\nfor subject in ResultsBySubjects:\n    print(subject)\n    # print(ResultsBySubjects[subject])",
      "execution_count": 44,
      "outputs": [
        {
          "output_type": "stream",
          "text": "Sciance\nMaths\nBiology\nCS\n",
          "name": "stdout"
        }
      ]
    },
    {
      "metadata": {
        "slideshow": {
          "slide_type": "subslide"
        }
      },
      "cell_type": "markdown",
      "source": "- Now let's use the for loop to calculate the sum"
    },
    {
      "metadata": {
        "trusted": true
      },
      "cell_type": "code",
      "source": "ResultsBySubjects = {'Sciance': 45, 'Maths': 50, 'Biology': 52, 'CS': 80 }\n\n# we need to store the sum somewhere so I have created a variable called sum and set its value to 0 \nsum = 0\nfor subject in ResultsBySubjects:\n    print(subject)\n    sum = sum + ResultsBySubjects[subject]\n    print(sum)\n\n# percentage = (sum/400)*100\n# print(percentage)",
      "execution_count": 48,
      "outputs": [
        {
          "output_type": "stream",
          "text": "Sciance\n45\nMaths\n95\nBiology\n147\nCS\n227\n56.75\n",
          "name": "stdout"
        }
      ]
    },
    {
      "metadata": {
        "slideshow": {
          "slide_type": "subslide"
        }
      },
      "cell_type": "markdown",
      "source": "- What if we wanted to add grades for another subject?"
    },
    {
      "metadata": {
        "trusted": true
      },
      "cell_type": "code",
      "source": "ResultsBySubjects = {'Sciance': 45, 'Maths': 50, 'Biology': 52, 'CS': 80, 'History': 65 }\n\n# we need to store the sum somewhere so I have created a variable called sum and set its value to 0 \nsum = 0\nfor subject in ResultsBySubjects:\n    print(subject)\n    sum = sum + ResultsBySubjects[subject]\n    print(sum)\n\npercentage = (sum/400)*100\nprint(percentage)",
      "execution_count": 50,
      "outputs": [
        {
          "output_type": "stream",
          "text": "Sciance\n45\nMaths\n95\nBiology\n147\nCS\n227\nHistory\n292\n73.0\n",
          "name": "stdout"
        }
      ]
    },
    {
      "metadata": {},
      "cell_type": "markdown",
      "source": "- Can you identify any issue with our solution? "
    },
    {
      "metadata": {
        "slideshow": {
          "slide_type": "subslide"
        }
      },
      "cell_type": "markdown",
      "source": "- We need to automate the logic of calculating **total**.\n- Python has some really powerful tools called **functions**\n- *A function is a bunch of code that only runs when it is called. You can often pass values to functions* \n- We have pre-defined = and user-defined functions (more on this soon).\n- We can use the pre-defined function called len (short for length) to find out how many subjects we have."
    },
    {
      "metadata": {
        "trusted": true
      },
      "cell_type": "code",
      "source": "ResultsBySubjects = {'Sciance': 45, 'Maths': 50, 'Biology': 52, 'CS': 80, 'History': 65 }\n\nprint(len(ResultsBySubjects))",
      "execution_count": 53,
      "outputs": [
        {
          "output_type": "stream",
          "text": "5\n",
          "name": "stdout"
        }
      ]
    },
    {
      "metadata": {
        "slideshow": {
          "slide_type": "subslide"
        }
      },
      "cell_type": "markdown",
      "source": "- Now we can just multiply it by 100 and get our total marks"
    },
    {
      "metadata": {
        "trusted": true
      },
      "cell_type": "code",
      "source": "ResultsBySubjects = {'Sciance': 45, 'Maths': 50, 'Biology': 52, 'CS': 80, 'History': 65 }\n\n# we need to store the sum somewhere so I have created a variable called sum and set its value to 0 \nsum = 0\nfor subject in ResultsBySubjects:\n    # print(subject)\n    sum = sum + ResultsBySubjects[subject]\n    # print(sum)\n\npercentage = (sum/(len(ResultsBySubjects)*100))*100\n# print(percentage)",
      "execution_count": 56,
      "outputs": []
    },
    {
      "metadata": {
        "slideshow": {
          "slide_type": "subslide"
        }
      },
      "cell_type": "markdown",
      "source": "#### What have we learned so far?\n\n------\n\n- What a variable is and how to declare and use it?\n- Complex data types such as a List and Dict\n- How to read these data types by using a loop?\n- How to use predefined functions?\n\n------\n\n<img src=\"Lero.png\" alt=\"Drawing\" style=\"width: 200px;\" align=\"left\"/> "
    },
    {
      "metadata": {
        "slideshow": {
          "slide_type": "slide"
        }
      },
      "cell_type": "markdown",
      "source": "#### Basics of reading CSV files in Python\n\n------\n\n- A sample CSV file for a student\n- We need to open this file using Python \n- After opening the file we need to read it \n- Now we can calculate and show the percentage results\n\n------\n\n<img src=\"Lero.png\" alt=\"Drawing\" style=\"width: 200px;\" align=\"left\"/> "
    },
    {
      "metadata": {
        "slideshow": {
          "slide_type": "subslide"
        }
      },
      "cell_type": "markdown",
      "source": "- Reading files in a Python program is a very common task so rather than re-inventing the wheel again we will use the code written by others.\n- A lot of functions that perform some related tasks are often bundled together and served as a *Library*\n    - Example: All the functions used to draw graphs can be combined in a single library for graphs\n- To read our CSV file, we will use one such Library called **Pandas**\n- **Pandas** is a very popular data manipulation and analysis library."
    },
    {
      "metadata": {
        "slideshow": {
          "slide_type": "subslide"
        }
      },
      "cell_type": "markdown",
      "source": "- In order to use a library, we must first import it our program"
    },
    {
      "metadata": {
        "trusted": true
      },
      "cell_type": "code",
      "source": "import pandas\n\n# Now we can use pandas to read the csv file\n\nstudentResults = pandas.read_csv('studentResults.csv')\n\nprint(studentResults)",
      "execution_count": 59,
      "outputs": [
        {
          "output_type": "stream",
          "text": "   Name  Age  Science  Maths  Biology  CS  History\n0  Luke   24       45     10       53  84       89\n",
          "name": "stdout"
        }
      ]
    },
    {
      "metadata": {
        "trusted": true
      },
      "cell_type": "code",
      "source": "print(type(studentResults))",
      "execution_count": 60,
      "outputs": [
        {
          "output_type": "stream",
          "text": "<class 'pandas.core.frame.DataFrame'>\n",
          "name": "stdout"
        }
      ]
    },
    {
      "metadata": {},
      "cell_type": "markdown",
      "source": "- This is a new data type that we have never seen before. Nothing to be scared of here. Most of the new data types that you encounter will have all the logical operations we can think of."
    },
    {
      "metadata": {
        "slideshow": {
          "slide_type": "subslide"
        }
      },
      "cell_type": "markdown",
      "source": "- Now let us read the Name Age and subjectResults.\n- To do this, we will use a predefined function of Pandas DataFrame"
    },
    {
      "metadata": {
        "trusted": true
      },
      "cell_type": "code",
      "source": "import pandas\n\nstudentResults = pandas.read_csv('studentResults.csv')\n\nLuke = studentResults.iloc[0]\n\nname = Luke[0]\nage = Luke[1]\nsubjects = Luke[2:7]\n# print(Luke[2:7])\n\nsum = 0\n\nfor subject in subjects:\n    sum = sum + subject\n\npercentage = (sum/(len(subjects)*100))*100\n# print(percentage)",
      "execution_count": 90,
      "outputs": []
    },
    {
      "metadata": {
        "slideshow": {
          "slide_type": "subslide"
        }
      },
      "cell_type": "markdown",
      "source": "- Before we wrap up today's session, let's have a look at graphs in Python\n- We will use an amazing library known as Matplotlib "
    },
    {
      "metadata": {
        "trusted": true
      },
      "cell_type": "code",
      "source": "import pandas\nimport matplotlib.pyplot as plt\n\nstudentResults = pandas.read_csv('studentResults.csv')\n\nLuke = studentResults.iloc[0]\n\nname = Luke[0]\nage = Luke[1]\nsubjects = Luke[2:7]\n\nplt.plot(subjects)\n\n",
      "execution_count": 95,
      "outputs": [
        {
          "output_type": "execute_result",
          "execution_count": 95,
          "data": {
            "text/plain": "[<matplotlib.lines.Line2D at 0x7fafdd7ca3c8>]"
          },
          "metadata": {}
        },
        {
          "output_type": "display_data",
          "data": {
            "image/png": "[encoded data removed]",
            "text/plain": "<Figure size 432x288 with 1 Axes>"
          },
          "metadata": {
            "needs_background": "light"
          }
        }
      ]
    },
    {
      "metadata": {
        "slideshow": {
          "slide_type": "slide"
        }
      },
      "cell_type": "markdown",
      "source": "#### Some best-practice for your code in Python \n\n------\n\n- Write a lot of useful comments on your code.\n- Use version control systems for your code (have a look at Github).\n- Test your code frequently while implementing a logic. \n- import this (Zen of Python)\n------\n\n<img src=\"Lero.png\" alt=\"Drawing\" style=\"width: 200px;\" align=\"left\"/> "
    },
    {
      "metadata": {
        "slideshow": {
          "slide_type": "subslide"
        },
        "trusted": true
      },
      "cell_type": "code",
      "source": "import this",
      "execution_count": 96,
      "outputs": [
        {
          "output_type": "stream",
          "text": "The Zen of Python, by Tim Peters\n\nBeautiful is better than ugly.\nExplicit is better than implicit.\nSimple is better than complex.\nComplex is better than complicated.\nFlat is better than nested.\nSparse is better than dense.\nReadability counts.\nSpecial cases aren't special enough to break the rules.\nAlthough practicality beats purity.\nErrors should never pass silently.\nUnless explicitly silenced.\nIn the face of ambiguity, refuse the temptation to guess.\nThere should be one-- and preferably only one --obvious way to do it.\nAlthough that way may not be obvious at first unless you're Dutch.\nNow is better than never.\nAlthough never is often better than *right* now.\nIf the implementation is hard to explain, it's a bad idea.\nIf the implementation is easy to explain, it may be a good idea.\nNamespaces are one honking great idea -- let's do more of those!\n",
          "name": "stdout"
        }
      ]
    },
    {
      "metadata": {
        "slideshow": {
          "slide_type": "subslide"
        }
      },
      "cell_type": "markdown",
      "source": "\n# Data Manipulation in Python Part 1\n\n#### Ashish Rajendra Sai\n\n###### Ph.D. Candidate - University of Limerick \n\nAny outstanding questions?\n\n <img src=\"Lero.png\" style=\"width: 400px;\" align=\"left\"/>    <img src=\"sfi.png\" style=\"width: 400px;float: right;\"/>"
    }
  ],
  "metadata": {
    "kernelspec": {
      "name": "python36",
      "display_name": "Python 3.6",
      "language": "python"
    },
    "language_info": {
      "mimetype": "text/x-python",
      "nbconvert_exporter": "python",
      "name": "python",
      "pygments_lexer": "ipython3",
      "version": "3.6.6",
      "file_extension": ".py",
      "codemirror_mode": {
        "version": 3,
        "name": "ipython"
      }
    },
    "celltoolbar": "Slideshow",
    "rise": {
      "autolaunch": true,
      "overlay": "<div class='myheader'><h2>my company</h2></div><div class='myfooter'><h2>the date</h2></div>"
    }
  },
  "nbformat": 4,
  "nbformat_minor": 1
}